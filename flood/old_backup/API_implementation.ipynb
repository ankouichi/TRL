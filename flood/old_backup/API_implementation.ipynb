{
 "cells": [
  {
   "cell_type": "code",
   "execution_count": 1,
   "metadata": {},
   "outputs": [],
   "source": [
    "import urllib.request as req\n",
    "import os.path\n",
    "import json\n",
    "import requests\n",
    "import os\n",
    "from datetime import datetime, timedelta\n",
    "import time\n",
    "import pytz\n",
    "from dateutil import parser\n",
    "import pandas as pd\n",
    "API_ROOT = \"https://api.synopticdata.com/v2/\"\n",
    "API_TOKEN = \"622863d185934c71a58c12a6e679c23d\"\n",
    "api_arguments = {\"token\":API_TOKEN}\n",
    "NWS_TOKEN = \"WkXIizXZDpEHxorFvkahwHGgBoDfFxRR\"\n",
    "SMU_API_TOKEN = 'cff7722463364a7ab147d188e0945c25'\n",
    "import pickle\n",
    "scaler = pickle.load(open('scaler.sav' , 'rb'))\n",
    "model = pickle.load(open('storm_clustering.sav', 'rb'))"
   ]
  },
  {
   "cell_type": "code",
   "execution_count": 2,
   "metadata": {},
   "outputs": [
    {
     "name": "stdout",
     "output_type": "stream",
     "text": [
      "https://api.synopticdata.com/v2/stations/precip?stid=khou&recent=60&precip=1&units=precip|in&hfmetar=1&obtimezone=local&token=cff7722463364a7ab147d188e0945c25\n",
      "True\n",
      "2020-09-20T14:53:00-0500\n",
      "202009201508\n",
      "intensity =  0.0\n",
      "total_depth 0.22\n"
     ]
    },
    {
     "ename": "AttributeError",
     "evalue": "'AgglomerativeClustering' object has no attribute 'predict'",
     "output_type": "error",
     "traceback": [
      "\u001b[1;31m---------------------------------------------------------------------------\u001b[0m",
      "\u001b[1;31mAttributeError\u001b[0m                            Traceback (most recent call last)",
      "\u001b[1;32m<ipython-input-2-c7ddeecc7021>\u001b[0m in \u001b[0;36m<module>\u001b[1;34m\u001b[0m\n\u001b[0;32m     28\u001b[0m         \u001b[1;32mif\u001b[0m \u001b[0mtotal_depth\u001b[0m \u001b[1;33m>\u001b[0m \u001b[1;36m0\u001b[0m\u001b[1;33m:\u001b[0m\u001b[1;33m\u001b[0m\u001b[1;33m\u001b[0m\u001b[0m\n\u001b[0;32m     29\u001b[0m             \u001b[0mX\u001b[0m \u001b[1;33m=\u001b[0m \u001b[0mscaler\u001b[0m\u001b[1;33m.\u001b[0m\u001b[0mtransform\u001b[0m\u001b[1;33m(\u001b[0m\u001b[1;33m[\u001b[0m\u001b[1;33m[\u001b[0m\u001b[0mintensity\u001b[0m \u001b[1;33m,\u001b[0m \u001b[0mtotal_depth\u001b[0m\u001b[1;33m]\u001b[0m\u001b[1;33m]\u001b[0m\u001b[1;33m)\u001b[0m\u001b[1;33m\u001b[0m\u001b[1;33m\u001b[0m\u001b[0m\n\u001b[1;32m---> 30\u001b[1;33m             \u001b[0my\u001b[0m \u001b[1;33m=\u001b[0m \u001b[0mmodel\u001b[0m\u001b[1;33m.\u001b[0m\u001b[0mpredict\u001b[0m\u001b[1;33m(\u001b[0m\u001b[0mX\u001b[0m\u001b[1;33m)\u001b[0m\u001b[1;33m\u001b[0m\u001b[1;33m\u001b[0m\u001b[0m\n\u001b[0m\u001b[0;32m     31\u001b[0m             \u001b[1;32mif\u001b[0m \u001b[0my\u001b[0m \u001b[1;33m==\u001b[0m \u001b[1;36m5\u001b[0m\u001b[1;33m:\u001b[0m\u001b[1;33m\u001b[0m\u001b[1;33m\u001b[0m\u001b[0m\n\u001b[0;32m     32\u001b[0m                 \u001b[0my\u001b[0m \u001b[1;33m=\u001b[0m \u001b[1;36m2\u001b[0m\u001b[1;33m\u001b[0m\u001b[1;33m\u001b[0m\u001b[0m\n",
      "\u001b[1;31mAttributeError\u001b[0m: 'AgglomerativeClustering' object has no attribute 'predict'"
     ]
    }
   ],
   "source": [
    "t_df = pd.DataFrame()\n",
    "i = -1\n",
    "while True:\n",
    "    \n",
    "    now = time.strftime('%Y%m%d%H%M', time.localtime())\n",
    "    url = 'https://api.synopticdata.com/v2/stations/precip?stid={}&recent={}&precip=1&units=precip|in&hfmetar=1&obtimezone=local&token={}'.format('khou',60,SMU_API_TOKEN)\n",
    "    print(url)\n",
    "    req = requests.get(url)\n",
    "    res = json.loads(req.text)\n",
    "    if res['SUMMARY']['RESPONSE_CODE'] == 2 : \n",
    "        print(res)\n",
    "    if res['SUMMARY']['RESPONSE_CODE'] == 1 :\n",
    "        print('True')\n",
    "        index = res['STATION'][0]['OBSERVATIONS']['ob_end_time_1']\n",
    "        print(index)\n",
    "        dt = pd.DataFrame(res['STATION'][0]['OBSERVATIONS'] , index=[i])\n",
    "        dt['query_time'] = now\n",
    "        print(now)\n",
    "        t_df = t_df.append(dt)\n",
    "        t_df['cumsum'] = t_df['total_precip_value_1'].cumsum()\n",
    "        t_df['max_int'] = t_df['cumsum'].diff().fillna(0)\n",
    "\n",
    "        intensity = max(t_df['max_int'])\n",
    "        print('intensity = ',intensity)\n",
    "        total_depth = t_df.iloc[len(t_df)-1]['cumsum']\n",
    "        print('total_depth', total_depth)\n",
    "        #print(t_df)\n",
    "        if total_depth > 0:\n",
    "            X = scaler.transform([[intensity , total_depth]])\n",
    "            y = model.predict(X)\n",
    "            if y == 5:\n",
    "                y = 2\n",
    "\n",
    "            t_df = t_df.set_index(t_df['ob_end_time_1'].apply(lambda x: parser.parse(x.split('T')[0].replace('-' , '/') + ' '+x.split('T')[1].split('-')[0])))\n",
    "            if (y == 2) & (t_df['total_precip_value_1'].rolling('3h').max()[len(t_df)-1]==0):\n",
    "                i=-1\n",
    "                t_df = pd.DataFrame()\n",
    "            elif (y == 1) & (t_df['total_precip_value_1'].rolling('5h').max()[len(t_df)-1]==0):\n",
    "                i = -1\n",
    "                t_df = pd.DataFrame()\n",
    "            elif t_df['total_precip_value_1'].rolling('8h').max()[len(t_df)-1]==0:\n",
    "                i = -1\n",
    "                t_df = pd.DataFrame()\n",
    "            else:\n",
    "                i += 1    \n",
    "        else:\n",
    "            y = 'Rainless'\n",
    "            i=-1\n",
    "            t_df = pd.DataFrame()\n",
    "            print(y)\n",
    "    time.sleep(15*60)\n",
    " "
   ]
  },
  {
   "cell_type": "code",
   "execution_count": null,
   "metadata": {},
   "outputs": [],
   "source": []
  }
 ],
 "metadata": {
  "kernelspec": {
   "display_name": "Python 3",
   "language": "python",
   "name": "python3"
  },
  "language_info": {
   "codemirror_mode": {
    "name": "ipython",
    "version": 3
   },
   "file_extension": ".py",
   "mimetype": "text/x-python",
   "name": "python",
   "nbconvert_exporter": "python",
   "pygments_lexer": "ipython3",
   "version": "3.7.4"
  }
 },
 "nbformat": 4,
 "nbformat_minor": 2
}
